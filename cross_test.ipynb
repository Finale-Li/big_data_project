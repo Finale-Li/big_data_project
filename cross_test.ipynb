{
 "cells": [
  {
   "cell_type": "markdown",
   "id": "a8c04ccd",
   "metadata": {},
   "source": [
    "## Load Data from Reddit and Twitter datasets \n",
    "Load data and clean words"
   ]
  },
  {
   "cell_type": "code",
   "execution_count": 1,
   "id": "00a81da6",
   "metadata": {},
   "outputs": [],
   "source": [
    "import numpy as np # linear algebra\n",
    "import pandas as pd # data processing, CSV file I/O (e.g. pd.read_csv)\n",
    "import re\n",
    "import nltk\n",
    "from nltk.corpus import stopwords\n",
    "import nltk as nlp\n",
    "import sklearn\n",
    "\n",
    "stopwords = stopwords.words('english')\n",
    "#add some unnecessary word to stopwords list\n",
    "stopwords.append(\"rt\")\n",
    "stopwords.append(\"u\")\n",
    "stopwords.append(\"amp\")\n",
    "stopwords.append(\"w\")\n",
    "stopwords.append(\"th\")\n",
    "\n",
    "twitter_data=pd.read_csv(\"twitter/ExtractedTweets.csv\")\n",
    "reddit_data=pd.read_csv(\"reddit/file_name.csv\")\n",
    "reddit_data[\"Text\"] = reddit_data[\"Text\"].fillna('')\n",
    "reddit_data[\"Title\"] = reddit_data[\"Title\"].fillna('')\n",
    "reddit_data['Post'] = reddit_data['Title'] + ' ' + reddit_data['Text']\n",
    "\n",
    "# Cleaning posts \n",
    "def clean(post):\n",
    "    d=post\n",
    "    d=re.sub(r'http\\S+', '', d) #remove links\n",
    "    d=re.sub(\"[^a-zA-Z]\", \" \", d) #remove all characters except letters\n",
    "    d=d.lower() #convert all words to lowercase\n",
    "    d=nltk.word_tokenize(d) #split sentences into word\n",
    "    d=[word for word in d if not word in set(stopwords)] #add to stopwords list if unnecessary words.\n",
    "    lemma=nlp.WordNetLemmatizer() \n",
    "    d=[lemma.lemmatize(word) for word in d] #identify the correct form of the word in the dictionary\n",
    "    d=\" \".join(d)\n",
    "    return d\n",
    "\n",
    "reddit_data['Post'] = reddit_data['Post'].apply(clean)\n",
    "twitter_data['Tweet'] = twitter_data['Tweet'].apply(clean)"
   ]
  },
  {
   "cell_type": "markdown",
   "id": "609a57a8",
   "metadata": {},
   "source": [
    "## Split training and test sets"
   ]
  },
  {
   "cell_type": "code",
   "execution_count": 2,
   "id": "24add0a2",
   "metadata": {},
   "outputs": [],
   "source": [
    "from sklearn.model_selection import train_test_split\n",
    "from sklearn.feature_extraction.text import CountVectorizer\n",
    "from sklearn.feature_extraction.text import TfidfTransformer\n",
    "from sklearn.pipeline import Pipeline\n",
    "\n",
    "reddit_df = reddit_data.copy()\n",
    "reddit_df[\"X\"] = reddit_df['Post']\n",
    "reddit_df[\"y\"] = reddit_df['Political Lean']\n",
    "reddit_df['y'] = reddit_df['y'].map({\"Liberal\": 'Democrat', \"Conservative\": 'Republican'})\n",
    "\n",
    "twitter_df = twitter_data.copy()\n",
    "twitter_df[\"X\"] = twitter_df[\"Tweet\"]\n",
    "twitter_df[\"y\"] = twitter_df[\"Party\"]\n",
    "\n",
    "reddit_X_train, reddit_X_test, reddit_y_train, reddit_y_test = train_test_split(reddit_df['X'],\n",
    "                                                    reddit_df['y'],\n",
    "                                                    stratify=reddit_df['y'],\n",
    "                                                    test_size=0.2,\n",
    "                                                    random_state=1218) # use my birthday!\n",
    "\n",
    "twitter_X_train, twitter_X_test, twitter_y_train, twitter_y_test = train_test_split(twitter_df['X'],\n",
    "                                                    twitter_df['y'],\n",
    "                                                    stratify=twitter_df['y'],\n",
    "                                                    test_size=0.2,\n",
    "                                                    random_state=1218) # use my birthday!"
   ]
  },
  {
   "cell_type": "markdown",
   "id": "658ad22f",
   "metadata": {},
   "source": [
    "## Model Training\n",
    "Train Naive Bayes classifier on Twitter and Reddit data respectively"
   ]
  },
  {
   "cell_type": "code",
   "execution_count": 3,
   "id": "6e07449e",
   "metadata": {},
   "outputs": [],
   "source": [
    "from sklearn.naive_bayes import MultinomialNB\n",
    "from sklearn.metrics import classification_report, cohen_kappa_score\n",
    "from sklearn.model_selection import cross_validate\n",
    "import json\n",
    "\n",
    "def fit_model(X_train, y_train, clf, vocabulary=None):\n",
    "    vectorizer = CountVectorizer(vocabulary=vocabulary) if vocabulary else CountVectorizer()\n",
    "    post_clf = Pipeline([\n",
    "        ('vect', vectorizer),\n",
    "        ('tfidf', TfidfTransformer()),\n",
    "        (\"clf\", clf)\n",
    "    ])\n",
    "    post_clf.fit(X_train,y_train)\n",
    "    return post_clf\n",
    "\n",
    "def evaluate(model_name, y_test, y_pred, labels):\n",
    "    print(\"Model: {}\\n\".format(model_name))\n",
    "    print(classification_report(y_test, y_pred, target_names=labels))\n",
    "    kappa = cohen_kappa_score(y_test, y_pred)\n",
    "    print(\"Cohen's Kappa:\", round(kappa,2))\n",
    "    print(\"========================================================\\n\")"
   ]
  },
  {
   "cell_type": "code",
   "execution_count": 4,
   "id": "cb421046",
   "metadata": {},
   "outputs": [],
   "source": [
    "clf_twitter_train = fit_model(twitter_X_train, twitter_y_train, MultinomialNB(alpha = 0.1, fit_prior = True))\n",
    "clf_reddit_train = fit_model(reddit_X_train, reddit_y_train, MultinomialNB(alpha = 0.1, fit_prior = True))"
   ]
  },
  {
   "cell_type": "markdown",
   "id": "a81e0198",
   "metadata": {},
   "source": [
    "## Test\n",
    "Do cross dataset test"
   ]
  },
  {
   "cell_type": "code",
   "execution_count": 8,
   "id": "39a67df0",
   "metadata": {},
   "outputs": [
    {
     "name": "stdout",
     "output_type": "stream",
     "text": [
      "Model: Naive Bayes, Training Set: Twitter, Test Set: Twitter\n",
      "\n",
      "              precision    recall  f1-score   support\n",
      "\n",
      "    Democrat       0.82      0.78      0.80      8414\n",
      "  Republican       0.80      0.83      0.82      8878\n",
      "\n",
      "    accuracy                           0.81     17292\n",
      "   macro avg       0.81      0.81      0.81     17292\n",
      "weighted avg       0.81      0.81      0.81     17292\n",
      "\n",
      "Cohen's Kappa: 0.61\n",
      "========================================================\n",
      "\n",
      "Model: Naive Bayes, Training Set: Twitter, Test Set: Reddit\n",
      "\n",
      "              precision    recall  f1-score   support\n",
      "\n",
      "    Democrat       0.68      0.69      0.68      1664\n",
      "  Republican       0.41      0.40      0.41       907\n",
      "\n",
      "    accuracy                           0.59      2571\n",
      "   macro avg       0.54      0.54      0.54      2571\n",
      "weighted avg       0.58      0.59      0.59      2571\n",
      "\n",
      "Cohen's Kappa: 0.09\n",
      "========================================================\n",
      "\n",
      "Model: Naive Bayes, Training Set: Reddit, Test Set: Twitter\n",
      "\n",
      "              precision    recall  f1-score   support\n",
      "\n",
      "    Democrat       0.49      0.89      0.63      8414\n",
      "  Republican       0.54      0.13      0.20      8878\n",
      "\n",
      "    accuracy                           0.50     17292\n",
      "   macro avg       0.51      0.51      0.42     17292\n",
      "weighted avg       0.51      0.50      0.41     17292\n",
      "\n",
      "Cohen's Kappa: 0.01\n",
      "========================================================\n",
      "\n",
      "Model: Naive Bayes, Training Set: Reddit, Test Set: Reddit\n",
      "\n",
      "              precision    recall  f1-score   support\n",
      "\n",
      "    Democrat       0.77      0.90      0.83      1664\n",
      "  Republican       0.74      0.52      0.61       907\n",
      "\n",
      "    accuracy                           0.76      2571\n",
      "   macro avg       0.75      0.71      0.72      2571\n",
      "weighted avg       0.76      0.76      0.75      2571\n",
      "\n",
      "Cohen's Kappa: 0.45\n",
      "========================================================\n",
      "\n"
     ]
    }
   ],
   "source": [
    "for train_d, clf in zip([\"Twitter\", \"Reddit\"], [clf_twitter_train, clf_reddit_train]):\n",
    "    for test_d, test_input, gt in [[\"Twitter\", twitter_X_test, twitter_y_test], [\"Reddit\", reddit_X_test, reddit_y_test]]:\n",
    "        evaluate(\"Naive Bayes, Training Set: {}, Test Set: {}\".format(train_d, test_d), gt, clf.predict(test_input), [\"Democrat\", \"Republican\"])"
   ]
  }
 ],
 "metadata": {
  "kernelspec": {
   "display_name": "Python 3 (ipykernel)",
   "language": "python",
   "name": "python3"
  },
  "language_info": {
   "codemirror_mode": {
    "name": "ipython",
    "version": 3
   },
   "file_extension": ".py",
   "mimetype": "text/x-python",
   "name": "python",
   "nbconvert_exporter": "python",
   "pygments_lexer": "ipython3",
   "version": "3.9.17"
  }
 },
 "nbformat": 4,
 "nbformat_minor": 5
}
